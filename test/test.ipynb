{
 "cells": [
  {
   "cell_type": "code",
   "execution_count": null,
   "id": "ca4f2dc5",
   "metadata": {},
   "outputs": [
    {
     "name": "stdout",
     "output_type": "stream",
     "text": [
      "分数坐标： [0.20791542 0.13712858 0.21462111]\n",
      "PDB 坐标： [1.3692642  1.16690473 1.16007   ] 3\n"
     ]
    }
   ],
   "source": [
    "import numpy as np\n",
    "\n",
    "# 示例原始坐标（xyz），需要先转分数坐标\n",
    "xyz = np.array([1.76927, 0.325937, 1.16007])\n",
    "\n",
    "# 原始晶胞矩阵（列为基矢）\n",
    "defcell = np.array([\n",
    "    [8.509566, 0.0, 0.0],\n",
    "    [-4.913000, 9.826000, 0.0],\n",
    "    [0.0, 0.0, 5.405200]\n",
    "])\n",
    "\n",
    "box =  np.array([\n",
    "    [9.826000,  0.0, 0.0],\n",
    "    [-4.913000,  8.509566 , 0.0],\n",
    "    [0.0, 0.0, 5.405200]\n",
    "])\n",
    "\n",
    "pdb_matrix = box.T\n",
    "\n",
    "# 1. xyz 转为分数坐标\n",
    "frac = np.linalg.solve(defcell, xyz)\n",
    "\n",
    "# 3. 转换为 PDB 坐标\n",
    "pdb_coord = pdb_matrix @ frac\n",
    "\n",
    "# 4. 输出\n",
    "print(\"分数坐标：\", frac)\n",
    "print(\"PDB 坐标：\", np.round(pdb_coord, 3))\n"
   ]
  }
 ],
 "metadata": {
  "kernelspec": {
   "display_name": "Python 3",
   "language": "python",
   "name": "python3"
  },
  "language_info": {
   "codemirror_mode": {
    "name": "ipython",
    "version": 3
   },
   "file_extension": ".py",
   "mimetype": "text/x-python",
   "name": "python",
   "nbconvert_exporter": "python",
   "pygments_lexer": "ipython3",
   "version": "3.8.5"
  }
 },
 "nbformat": 4,
 "nbformat_minor": 5
}
